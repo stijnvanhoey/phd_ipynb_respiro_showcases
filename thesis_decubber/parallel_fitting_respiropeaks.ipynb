{
 "cells": [
  {
   "cell_type": "markdown",
   "metadata": {},
   "source": [
    "Op voorhand heb ik 10 cores gevraagd en met volgende commando haal ik de cores op:"
   ]
  },
  {
   "cell_type": "code",
   "execution_count": 3,
   "metadata": {
    "collapsed": false
   },
   "outputs": [
    {
     "data": {
      "text/plain": [
       "[0, 1, 2, 3, 4, 5, 6, 7, 8, 9]"
      ]
     },
     "execution_count": 3,
     "metadata": {},
     "output_type": "execute_result"
    }
   ],
   "source": [
    "from __future__ import division\n",
    "from IPython.parallel import Client\n",
    "c = Client()\n",
    "c.ids"
   ]
  },
  {
   "cell_type": "markdown",
   "metadata": {},
   "source": [
    "Ik heb in dus 10 cores aangevraagd in dit geval.\n",
    "\n",
    "Volgende deel is nodig om he bij ons werkende te krijgen (zie biomath-wiki):"
   ]
  },
  {
   "cell_type": "code",
   "execution_count": 4,
   "metadata": {
    "collapsed": false
   },
   "outputs": [],
   "source": [
    "%%px --local                                    \n",
    "# Execute on all cores but also for serial calculations\n",
    "\n",
    "import dill   # Load dill, More general pickling class\n",
    "\n",
    "# fallback to pickle instead of cPickle, so that dill can take over\n",
    "import pickle\n",
    "from IPython.kernel.zmq import serialize\n",
    "serialize.pickle = pickle"
   ]
  },
  {
   "cell_type": "markdown",
   "metadata": {},
   "source": [
    "Ik wil een aantal modules ter beschikking in elke core en dus doe ik sync-import:"
   ]
  },
  {
   "cell_type": "code",
   "execution_count": 3,
   "metadata": {
    "collapsed": false
   },
   "outputs": [
    {
     "name": "stdout",
     "output_type": "stream",
     "text": [
      "importing biointense on engine(s)\n",
      "importing numpy on engine(s)\n",
      "importing time on engine(s)\n",
      "importing pySTAN on engine(s)\n",
      "importing deepcopy from copy on engine(s)\n",
      "importing prepended_to_syspath from IPython.utils.syspathcontext on engine(s)\n",
      "importing autoreload on engine(s)\n",
      "importing sys on engine(s)\n",
      "importing os on engine(s)\n",
      "importing pandas on engine(s)\n",
      "importing optimize from scipy on engine(s)\n"
     ]
    }
   ],
   "source": [
    "with c[:].sync_imports():\n",
    "    #bio-intense custom developments\n",
    "    import biointense\n",
    "    import numpy as np\n",
    "    import time\n",
    "    import pySTAN\n",
    "    from copy import deepcopy\n",
    "    \n",
    "    %load_ext autoreload\n",
    "    %autoreload 2\n",
    "    import sys\n",
    "    import os  \n",
    "    import pandas as pd\n",
    "    from scipy import optimize    "
   ]
  },
  {
   "cell_type": "markdown",
   "metadata": {},
   "source": [
    "Om ervoor te zorgen dat alle cores mijn eigen te schrijven hulp- functie/definitie kan lezen, registreer ik kort een extra magic function (anders zou ik alles in 1 grote definitie moeten schrijven):"
   ]
  },
  {
   "cell_type": "code",
   "execution_count": 4,
   "metadata": {
    "collapsed": false
   },
   "outputs": [],
   "source": [
    "def pxlocal(line, cell):\n",
    "    ip = get_ipython()\n",
    "    ip.run_cell_magic(\"px\", line, cell)\n",
    "    ip.run_cell(cell)\n",
    "get_ipython().register_magic_function(pxlocal, \"cell\")"
   ]
  },
  {
   "cell_type": "markdown",
   "metadata": {},
   "source": [
    "Met die magic function bij mijn definitie wordt dat dan ook beschikbaar in all cores:"
   ]
  },
  {
   "cell_type": "code",
   "execution_count": 5,
   "metadata": {
    "collapsed": false
   },
   "outputs": [],
   "source": [
    "%%pxlocal\n",
    "#DOELFUNCTIE\n",
    "def all_peaks_optimize(parameters, name):    \n",
    "\n",
    "    \"\"\"\n",
    "    \n",
    "    Parameters\n",
    "    -----------\n",
    "    name :  char\n",
    "        id-name of the experiment\n",
    "    parameters : list\n",
    "        List with parameter values => [ks rmax]\n",
    "    \"\"\"\n",
    "    import pandas as pd\n",
    "    import biointense\n",
    "    import numpy as np\n",
    "    import time\n",
    "    import pySTAN\n",
    "    import sys\n",
    "    import os  \n",
    "    import pandas as pd\n",
    "    from scipy import optimize    \n",
    "    \n",
    "    tauvalues = {'0131A': 20.00000001,\n",
    "     '0206A': 20.00000001,\n",
    "     '0226A': 199.999999601,\n",
    "     '0307A': 199.999999992,\n",
    "     '0319A': 21.2911210166,\n",
    "     '0326A': 92.8429882969,\n",
    "     '0401A': 38.9426243836,\n",
    "     '0409A': 89.1280050836,\n",
    "     '0417A': 120.916492359,\n",
    "     '0508A': 79.8659969447,\n",
    "     '1018A': 149.21015342,\n",
    "     '1025A': 193.611650726,\n",
    "     '1031A': 138.371608153,\n",
    "     '1107A': 79.4790380957,\n",
    "     '1114A': 125.880552489,\n",
    "     '1122A': 129.27346531,\n",
    "     '1128A': 123.383245389,\n",
    "     '1205A': 193.267121328,\n",
    "     '1212A': 170.381661059,\n",
    "     '1220A': 159.541718233}\n",
    "\n",
    "    \n",
    "    #select the relevant peaks of the experiment\n",
    "    datapath1 = \"/home/data/stvhoey/Fitten_profielen\"\n",
    "    cols = [\"id\", \"S\", \"DO\",\"X\", \"kla\", \"Y\", \"ratio\", \"Ycalc\" ]\n",
    "    piekdata = pd.read_table(os.path.join(datapath1,\"alles2.lvm\"), names = cols)\n",
    "    piekdata = piekdata.set_index(\"id\")\n",
    "    \n",
    "    #alle namen\n",
    "    allnames = [nm[:-1] for nm in piekdata.index.tolist()]\n",
    "    piekdata[\"shortname\"] = allnames\n",
    "    #unieke namen\n",
    "    names = []    \n",
    "    [names.append(i) for i in allnames if not i in names] \n",
    "    \n",
    "    exp_peaks = piekdata.groupby(\"shortname\").get_group(name)\n",
    "    \n",
    "    SSE = 0\n",
    "\n",
    "    #voor elke piek een model opstellen en SSE optellen\n",
    "    for index, row in exp_peaks.iterrows():\n",
    "        #get names of the experiments\n",
    "        idi = index\n",
    "        Si = row[\"S\"]\n",
    "        DOi= row[\"DO\"]\n",
    "        Xi = row[\"X\"]\n",
    "        klai = row[\"kla\"]\n",
    "        Yi = row[\"Y\"]\n",
    "        ratioi = row[\"ratio\"]\n",
    "        \n",
    "        initcond = {'SS':Si, 'DO':DOi, 'XX':Xi}\n",
    "        \n",
    "        Modelname = 'Basicrespiromodel' + index\n",
    "        #hier de nieuwe pars geven\n",
    "        Parameters = {'tau':tauvalues[name], 'mumax':parameters[1], 'ks':parameters[0]}\n",
    "        System = {'dSS':'-(1-exp(-t/tau))*((mumax/(3600*24))*XX/('+str(Yi)+')*SS/((SS+ks)))',\n",
    "                  'dDO':'('+str(klai)+'*('+ str(DOi)+'-DO)-(1-exp(-t/tau))*(mumax/(3600*24))*XX/'+str(Yi)+'*(1-'+str(Yi)+')*SS/((SS+ks)))',\n",
    "                  'dXX' :'(1-exp(-t/tau))*(mumax*XX/(3600*24))*SS/(SS+ks)-(0.24/(24*3600))*XX'\n",
    "                  }                                       \n",
    "        M1 = biointense.odegenerator(System, Parameters,  Modelname = Modelname)\n",
    "        M1.set_measured_states(['DO'])\n",
    "        M1.set_initial_conditions(initcond)\n",
    "        \n",
    "        #-------------------------------------------------\n",
    "        #HIER NOG AAN TE PASSEN MET INLEZEN GOEIE FILES\n",
    "        #-------------------------------------------------\n",
    "        datapath = \"/home/data/stvhoey/pieken/pieken\"\n",
    "        data = pd.read_csv(os.path.join(datapath,index+\"_pieken.csv\"))\n",
    "        #-------------------------------------------------        \n",
    "\n",
    "        time_col = 'NewTime'\n",
    "        lasttime = np.ceil(data[time_col].values[-1])\n",
    "        data = data.set_index(time_col)\n",
    "        M1.set_time({'start':0,'end':lasttime,'nsteps':20})\n",
    "        \n",
    "        dataprofile1 = biointense.ode_measurements(data[[\"DO\"]])                         \n",
    "        Fitprofile1 = biointense.ode_optimizer(M1,dataprofile1)\n",
    "#        initial_parset = {'tau':80,  'mumax':1.0, 'ks' :30}\n",
    "#        #the bugfix: !!!!\n",
    "#        initial_parset = collections.OrderedDict(sorted(initial_parset.items(), \n",
    "#                                                        key=lambda t: t[0]))#effectieve volgorde is: ks rmax tau\n",
    "        \n",
    "        SSEp = Fitprofile1.get_WSSE()[0]\n",
    "        \n",
    "        \n",
    "        SSE +=SSEp\n",
    "    print \"-\"*40\n",
    "    print \"SSE of experiment \", name, \" is \", SSE\n",
    "    print \"-\"*40\n",
    "    print \"Current parameter values are \\n\", \n",
    "    print \"ks: \", Fitprofile1.get_all_parameters()['ks']\n",
    "    print \"mumax: \", Fitprofile1.get_all_parameters()['mumax']\n",
    "    print \"-\"*40\n",
    " \n",
    "    return SSE"
   ]
  },
  {
   "cell_type": "code",
   "execution_count": 6,
   "metadata": {
    "collapsed": false
   },
   "outputs": [],
   "source": [
    "datapath1 = \"/home/data/stvhoey/Fitten_profielen\""
   ]
  },
  {
   "cell_type": "code",
   "execution_count": 7,
   "metadata": {
    "collapsed": false
   },
   "outputs": [
    {
     "data": {
      "text/plain": [
       "[None,\n",
       " None,\n",
       " None,\n",
       " None,\n",
       " None,\n",
       " None,\n",
       " None,\n",
       " None,\n",
       " None,\n",
       " None,\n",
       " None,\n",
       " None,\n",
       " None,\n",
       " None,\n",
       " None,\n",
       " None,\n",
       " None,\n",
       " None,\n",
       " None,\n",
       " None]"
      ]
     },
     "execution_count": 7,
     "metadata": {},
     "output_type": "execute_result"
    }
   ],
   "source": [
    "#INFO IVM PIEKEN\n",
    "#------------------\n",
    "cols = [\"id\", \"S\", \"DO\",\"X\", \"kla\", \"Y\", \"ratio\", \"Ycalc\" ]\n",
    "piekdata = pd.read_table(os.path.join(datapath1,\"alles2.lvm\"), names = cols)\n",
    "piekdata = piekdata.set_index(\"id\")\n",
    "\n",
    "#alle namen\n",
    "allnames = [nm[:-1] for nm in piekdata.index.tolist()]\n",
    "piekdata[\"shortname\"] = allnames\n",
    "#unieke namen\n",
    "names = []    \n",
    "[names.append(i) for i in allnames if not i in names] "
   ]
  },
  {
   "cell_type": "code",
   "execution_count": 8,
   "metadata": {
    "collapsed": false
   },
   "outputs": [
    {
     "data": {
      "text/plain": [
       "['1018A',\n",
       " '1025A',\n",
       " '1031A',\n",
       " '1107A',\n",
       " '1114A',\n",
       " '1122A',\n",
       " '1128A',\n",
       " '1205A',\n",
       " '1212A',\n",
       " '1220A',\n",
       " '0131A',\n",
       " '0206A',\n",
       " '0226A',\n",
       " '0307A',\n",
       " '0319A',\n",
       " '0326A',\n",
       " '0401A',\n",
       " '0409A',\n",
       " '0417A',\n",
       " '0508A']"
      ]
     },
     "execution_count": 8,
     "metadata": {},
     "output_type": "execute_result"
    }
   ],
   "source": [
    "names"
   ]
  },
  {
   "cell_type": "markdown",
   "metadata": {},
   "source": [
    "1 van de 2 volgende optimalisaties wil ik uitvoeren voor elk van mijn experimenten en dus dit zijn de functies die ik wil mappen (een for-loop schrijven)"
   ]
  },
  {
   "cell_type": "code",
   "execution_count": 9,
   "metadata": {
    "collapsed": false
   },
   "outputs": [],
   "source": [
    "def run_on_kernels(name):\n",
    "    from scipy import optimize\n",
    "    maxiters = 1\n",
    "    method = 'Nelder-Mead'\n",
    "    initial_parset = [3., 1.0]     #{'ks' :30, 'mumax':1.0}                           \n",
    "    res = optimize.minimize(all_peaks_optimize, initial_parset, \n",
    "                                      args=(name,), method= method, jac = False,\n",
    "                                      options = {\"maxiter\": maxiters})\n",
    "    return [res, res.x, name]"
   ]
  },
  {
   "cell_type": "code",
   "execution_count": 12,
   "metadata": {
    "collapsed": false
   },
   "outputs": [],
   "source": [
    "def run_on_kernels2(name):\n",
    "    from scipy import optimize\n",
    "    maxiters = 500\n",
    "    method = 'TNC'\n",
    "    initial_parset = [3., 1.0]     #{'ks' :30, 'mumax':1.0}                           \n",
    "    res = optimize.minimize(all_peaks_optimize, initial_parset, \n",
    "                                      args=(name,), method= method, jac = False, bounds = [(1, 30.), (0.1, 10.)],\n",
    "                                      options = {\"maxiter\": maxiters, \"eps\": 0.001})\n",
    "    return [res, res.x, name]"
   ]
  },
  {
   "cell_type": "markdown",
   "metadata": {},
   "source": [
    "Hier begint het échte werk: parallel runnen van de optimalisatie, door eerst een balanced view op te vragen waarop ik dan mijn functie kan mappen (de opdrachten verspreiden):"
   ]
  },
  {
   "cell_type": "code",
   "execution_count": 2,
   "metadata": {
    "collapsed": false
   },
   "outputs": [
    {
     "ename": "NameError",
     "evalue": "name 'rc' is not defined",
     "output_type": "error",
     "traceback": [
      "\u001b[1;31m---------------------------------------------------------------------------\u001b[0m",
      "\u001b[1;31mNameError\u001b[0m                                 Traceback (most recent call last)",
      "\u001b[1;32m<ipython-input-2-923bc29b24aa>\u001b[0m in \u001b[0;36m<module>\u001b[1;34m()\u001b[0m\n\u001b[1;32m----> 1\u001b[1;33m \u001b[0mlview\u001b[0m \u001b[1;33m=\u001b[0m \u001b[0mrc\u001b[0m\u001b[1;33m.\u001b[0m\u001b[0mload_balanced_view\u001b[0m\u001b[1;33m(\u001b[0m\u001b[1;33m)\u001b[0m\u001b[1;33m\u001b[0m\u001b[0m\n\u001b[0m",
      "\u001b[1;31mNameError\u001b[0m: name 'rc' is not defined"
     ]
    }
   ],
   "source": [
    "lview = rc.load_balanced_view()"
   ]
  },
  {
   "cell_type": "markdown",
   "metadata": {},
   "source": [
    "En hier gebeurt de parallele magie, ik map de functie voor elke naam in de lijst 'names'. De return van mijn run_on_kernels2-functie wordt dan telkens teruggegeven en die komen allemaal in hres terecht (maw, zorg voor iets van unieke ID die je ook terug meegeeft). Ik schrijf die hres-info dan in een file als alles resultaten binnen zijn."
   ]
  },
  {
   "cell_type": "code",
   "execution_count": null,
   "metadata": {
    "collapsed": false
   },
   "outputs": [],
   "source": [
    "lview.block = False\n",
    "hres = lview.map(run_on_kernels2, names)\n",
    "\n",
    "f = open(\"2014_optimalpars_allpeaks_newlatenight\", \"w\")\n",
    "for j, parcombi in enumerate(hres.result):\n",
    "    f.write(parcombi[-1] + \"\\n\")\n",
    "    for value in parcombi[1]:\n",
    "        f.write(str(value)+\"\\n\")\n",
    "f.close()"
   ]
  },
  {
   "cell_type": "code",
   "execution_count": null,
   "metadata": {
    "collapsed": false
   },
   "outputs": [],
   "source": []
  },
  {
   "cell_type": "code",
   "execution_count": 25,
   "metadata": {
    "collapsed": false
   },
   "outputs": [],
   "source": []
  },
  {
   "cell_type": "code",
   "execution_count": null,
   "metadata": {
    "collapsed": false
   },
   "outputs": [],
   "source": []
  },
  {
   "cell_type": "code",
   "execution_count": null,
   "metadata": {
    "collapsed": false
   },
   "outputs": [],
   "source": []
  },
  {
   "cell_type": "code",
   "execution_count": 18,
   "metadata": {
    "collapsed": false
   },
   "outputs": [
    {
     "name": "stdout",
     "output_type": "stream",
     "text": [
      "****************************************\n",
      "working on experiment  0131A ...\n",
      "****************************************\n",
      "No Algebraic equations defined. Continuing...\n",
      "index of dataframe is seen as measurement time steps, and colnames are the measured variables\n",
      "{'DO': 1}\n",
      "Error Covariance Matrix is updated\n",
      "Measured variables are updated in model!\n",
      "Writing model to file for 'odeint' procedure...\n",
      "File is printed to:  /home/data/stvhoey/Basicrespiromodel.py\n",
      "Filename used is:  Basicrespiromodel\n",
      "Sensitivities are printed to the file....\n",
      "...done!\n",
      "...Finished writing to file!\n",
      "<function system_with_sens at 0x6860500>\n",
      "Going for odeint...\n",
      "Model was already written to file! We are using the 'odeint' procedure for solving ODEs. If you want to rewrite                 the model to the file, please add 'write = True'.\n",
      "<function system_with_sens at 0x72e9b18>\n",
      "Going for odeint...\n",
      "Model was already written to file! We are using the 'odeint' procedure for solving ODEs. If you want to rewrite                 the model to the file, please add 'write = True'.\n",
      "<function system_with_sens at 0x65bc7d0>\n",
      "Going for odeint...\n",
      "No Algebraic equations defined. Continuing...\n",
      "index of dataframe is seen as measurement time steps, and colnames are the measured variables\n",
      "{'DO': 1}\n",
      "Error Covariance Matrix is updated\n",
      "Measured variables are updated in model!\n",
      "Writing model to file for 'odeint' procedure...\n",
      "File is printed to:  /home/data/stvhoey/Basicrespiromodel.py\n",
      "Filename used is:  Basicrespiromodel\n",
      "Sensitivities are printed to the file....\n",
      "...done!\n",
      "...Finished writing to file!\n",
      "<function system_with_sens at 0x6992500>\n",
      "Going for odeint...\n",
      "Model was already written to file! We are using the 'odeint' procedure for solving ODEs. If you want to rewrite                 the model to the file, please add 'write = True'.\n",
      "<function system_with_sens at 0x7f8ff50>\n",
      "Going for odeint...\n",
      "Model was already written to file! We are using the 'odeint' procedure for solving ODEs. If you want to rewrite                 the model to the file, please add 'write = True'.\n",
      "<function system_with_sens at 0x6ca3050>\n",
      "Going for odeint...\n",
      "No Algebraic equations defined. Continuing...\n",
      "index of dataframe is seen as measurement time steps, and colnames are the measured variables\n",
      "{'DO': 1}\n",
      "Error Covariance Matrix is updated\n",
      "Measured variables are updated in model!\n",
      "Writing model to file for 'odeint' procedure...\n",
      "File is printed to:  /home/data/stvhoey/Basicrespiromodel.py\n",
      "Filename used is:  Basicrespiromodel\n",
      "Sensitivities are printed to the file....\n",
      "...done!\n",
      "...Finished writing to file!\n",
      "<function system_with_sens at 0x687b398>\n",
      "Going for odeint...\n",
      "Model was already written to file! We are using the 'odeint' procedure for solving ODEs. If you want to rewrite                 the model to the file, please add 'write = True'.\n",
      "<function system_with_sens at 0x848d050>\n",
      "Going for odeint...\n",
      "Model was already written to file! We are using the 'odeint' procedure for solving ODEs. If you want to rewrite                 the model to the file, please add 'write = True'.\n",
      "<function system_with_sens at 0x66dec08>\n",
      "Going for odeint...\n",
      "No Algebraic equations defined. Continuing...\n",
      "index of dataframe is seen as measurement time steps, and colnames are the measured variables\n",
      "{'DO': 1}\n",
      "Error Covariance Matrix is updated\n",
      "Measured variables are updated in model!\n",
      "Writing model to file for 'odeint' procedure...\n",
      "File is printed to:  /home/data/stvhoey/Basicrespiromodel.py\n",
      "Filename used is:  Basicrespiromodel\n",
      "Sensitivities are printed to the file....\n",
      "...done!\n",
      "...Finished writing to file!\n",
      "<function system_with_sens at 0x7f70b18>\n",
      "Going for odeint...\n",
      "Model was already written to file! We are using the 'odeint' procedure for solving ODEs. If you want to rewrite                 the model to the file, please add 'write = True'.\n",
      "<function system_with_sens at 0x7f70a28>\n",
      "Going for odeint...\n",
      "Model was already written to file! We are using the 'odeint' procedure for solving ODEs. If you want to rewrite                 the model to the file, please add 'write = True'.\n",
      "<function system_with_sens at 0x622aed8>\n",
      "Going for odeint...\n",
      "No Algebraic equations defined. Continuing...\n",
      "index of dataframe is seen as measurement time steps, and colnames are the measured variables\n",
      "{'DO': 1}\n",
      "Error Covariance Matrix is updated\n",
      "Measured variables are updated in model!\n",
      "Writing model to file for 'odeint' procedure...\n",
      "File is printed to:  /home/data/stvhoey/Basicrespiromodel.py\n",
      "Filename used is:  Basicrespiromodel\n",
      "Sensitivities are printed to the file....\n",
      "...done!\n",
      "...Finished writing to file!\n",
      "<function system_with_sens at 0x6709230>\n",
      "Going for odeint...\n",
      "Model was already written to file! We are using the 'odeint' procedure for solving ODEs. If you want to rewrite                 the model to the file, please add 'write = True'.\n",
      "<function system_with_sens at 0x93b89b0>\n",
      "Going for odeint...\n",
      "Model was already written to file! We are using the 'odeint' procedure for solving ODEs. If you want to rewrite                 the model to the file, please add 'write = True'.\n",
      "<function system_with_sens at 0x6f9d0c8>\n",
      "Going for odeint...\n",
      "----------------------------------------\n",
      "SSE of experiment  0131A  is  7517.12162293\n",
      "----------------------------------------\n",
      "Current parameter values are \n",
      "ks:  30.0\n",
      "mumax:  1.0\n",
      "----------------------------------------\n",
      "No Algebraic equations defined. Continuing...\n",
      "index of dataframe is seen as measurement time steps, and colnames are the measured variables\n",
      "{'DO': 1}\n",
      "Error Covariance Matrix is updated\n",
      "Measured variables are updated in model!\n",
      "Writing model to file for 'odeint' procedure...\n",
      "File is printed to:  /home/data/stvhoey/Basicrespiromodel.py\n",
      "Filename used is:  Basicrespiromodel\n",
      "Sensitivities are printed to the file....\n",
      "...done!\n",
      "...Finished writing to file!\n",
      "<function system_with_sens at 0x7d41e60>\n",
      "Going for odeint...\n",
      "Model was already written to file! We are using the 'odeint' procedure for solving ODEs. If you want to rewrite                 the model to the file, please add 'write = True'.\n",
      "<function system_with_sens at 0x7d41668>\n",
      "Going for odeint...\n",
      "Model was already written to file! We are using the 'odeint' procedure for solving ODEs. If you want to rewrite                 the model to the file, please add 'write = True'.\n",
      "<function system_with_sens at 0x79f3e60>\n",
      "Going for odeint...\n",
      "No Algebraic equations defined. Continuing...\n",
      "index of dataframe is seen as measurement time steps, and colnames are the measured variables\n",
      "{'DO': 1}\n",
      "Error Covariance Matrix is updated\n",
      "Measured variables are updated in model!\n",
      "Writing model to file for 'odeint' procedure...\n",
      "File is printed to:  /home/data/stvhoey/Basicrespiromodel.py\n",
      "Filename used is:  Basicrespiromodel\n",
      "Sensitivities are printed to the file....\n",
      "...done!\n",
      "...Finished writing to file!\n",
      "<function system_with_sens at 0x6f9b488>\n",
      "Going for odeint...\n",
      "Model was already written to file! We are using the 'odeint' procedure for solving ODEs. If you want to rewrite                 the model to the file, please add 'write = True'.\n",
      "<function system_with_sens at 0x67d4d70>\n",
      "Going for odeint...\n",
      "Model was already written to file! We are using the 'odeint' procedure for solving ODEs. If you want to rewrite                 the model to the file, please add 'write = True'.\n",
      "<function system_with_sens at 0x63f82a8>\n",
      "Going for odeint...\n",
      "No Algebraic equations defined. Continuing...\n",
      "index of dataframe is seen as measurement time steps, and colnames are the measured variables\n",
      "{'DO': 1}\n",
      "Error Covariance Matrix is updated\n",
      "Measured variables are updated in model!\n",
      "Writing model to file for 'odeint' procedure...\n",
      "File is printed to:  /home/data/stvhoey/Basicrespiromodel.py\n",
      "Filename used is:  Basicrespiromodel\n",
      "Sensitivities are printed to the file....\n",
      "...done!\n",
      "...Finished writing to file!\n",
      "<function system_with_sens at 0x817c8c0>\n",
      "Going for odeint...\n",
      "Model was already written to file! We are using the 'odeint' procedure for solving ODEs. If you want to rewrite                 the model to the file, please add 'write = True'.\n",
      "<function system_with_sens at 0x93e1050>\n",
      "Going for odeint...\n",
      "Model was already written to file! We are using the 'odeint' procedure for solving ODEs. If you want to rewrite                 the model to the file, please add 'write = True'.\n",
      "<function system_with_sens at 0x5ea40c8>\n",
      "Going for odeint...\n",
      "No Algebraic equations defined. Continuing...\n",
      "index of dataframe is seen as measurement time steps, and colnames are the measured variables\n",
      "{'DO': 1}\n",
      "Error Covariance Matrix is updated\n",
      "Measured variables are updated in model!\n",
      "Writing model to file for 'odeint' procedure...\n",
      "File is printed to:  /home/data/stvhoey/Basicrespiromodel.py\n",
      "Filename used is:  Basicrespiromodel\n",
      "Sensitivities are printed to the file....\n",
      "...done!\n",
      "...Finished writing to file!\n",
      "<function system_with_sens at 0x620b0c8>\n",
      "Going for odeint...\n",
      "Model was already written to file! We are using the 'odeint' procedure for solving ODEs. If you want to rewrite                 the model to the file, please add 'write = True'.\n",
      "<function system_with_sens at 0x86e47d0>\n",
      "Going for odeint...\n",
      "Model was already written to file! We are using the 'odeint' procedure for solving ODEs. If you want to rewrite                 the model to the file, please add 'write = True'.\n",
      "<function system_with_sens at 0x5634e60>\n",
      "Going for odeint...\n",
      "No Algebraic equations defined. Continuing...\n",
      "index of dataframe is seen as measurement time steps, and colnames are the measured variables\n",
      "{'DO': 1}\n",
      "Error Covariance Matrix is updated\n",
      "Measured variables are updated in model!\n",
      "Writing model to file for 'odeint' procedure...\n",
      "File is printed to:  /home/data/stvhoey/Basicrespiromodel.py\n",
      "Filename used is:  Basicrespiromodel\n",
      "Sensitivities are printed to the file....\n",
      "...done!\n",
      "...Finished writing to file!\n",
      "<function system_with_sens at 0x80e25f0>\n",
      "Going for odeint...\n",
      "Model was already written to file! We are using the 'odeint' procedure for solving ODEs. If you want to rewrite                 the model to the file, please add 'write = True'.\n",
      "<function system_with_sens at 0x7e418c0>\n",
      "Going for odeint...\n",
      "Model was already written to file! We are using the 'odeint' procedure for solving ODEs. If you want to rewrite                 the model to the file, please add 'write = True'.\n",
      "<function system_with_sens at 0x632ae60>\n",
      "Going for odeint...\n",
      "----------------------------------------\n",
      "SSE of experiment  0131A  is  8063.36423005\n",
      "----------------------------------------\n",
      "Current parameter values are \n",
      "ks:  31.5\n",
      "mumax:  1.0\n",
      "----------------------------------------\n",
      "No Algebraic equations defined. Continuing...\n",
      "index of dataframe is seen as measurement time steps, and colnames are the measured variables\n",
      "{'DO': 1}\n",
      "Error Covariance Matrix is updated\n",
      "Measured variables are updated in model!\n",
      "Writing model to file for 'odeint' procedure...\n",
      "File is printed to:  /home/data/stvhoey/Basicrespiromodel.py\n",
      "Filename used is:  Basicrespiromodel\n",
      "Sensitivities are printed to the file....\n",
      "...done!\n",
      "...Finished writing to file!\n",
      "<function system_with_sens at 0x8f0b938>\n",
      "Going for odeint...\n",
      "Model was already written to file! We are using the 'odeint' procedure for solving ODEs. If you want to rewrite                 the model to the file, please add 'write = True'.\n",
      "<function system_with_sens at 0x7f826e0>\n",
      "Going for odeint...\n",
      "Model was already written to file! We are using the 'odeint' procedure for solving ODEs. If you want to rewrite                 the model to the file, please add 'write = True'.\n",
      "<function system_with_sens at 0x7f82cf8>\n",
      "Going for odeint...\n",
      "No Algebraic equations defined. Continuing...\n",
      "index of dataframe is seen as measurement time steps, and colnames are the measured variables\n",
      "{'DO': 1}\n",
      "Error Covariance Matrix is updated\n",
      "Measured variables are updated in model!\n",
      "Writing model to file for 'odeint' procedure...\n",
      "File is printed to:  /home/data/stvhoey/Basicrespiromodel.py\n",
      "Filename used is:  Basicrespiromodel\n",
      "Sensitivities are printed to the file....\n",
      "...done!\n",
      "...Finished writing to file!\n",
      "<function system_with_sens at 0x90c56e0>\n",
      "Going for odeint...\n",
      "Model was already written to file! We are using the 'odeint' procedure for solving ODEs. If you want to rewrite                 the model to the file, please add 'write = True'.\n",
      "<function system_with_sens at 0x8224f50>\n",
      "Going for odeint...\n",
      "Model was already written to file! We are using the 'odeint' procedure for solving ODEs. If you want to rewrite                 the model to the file, please add 'write = True'.\n",
      "<function system_with_sens at 0x67e0230>\n",
      "Going for odeint...\n",
      "No Algebraic equations defined. Continuing...\n",
      "index of dataframe is seen as measurement time steps, and colnames are the measured variables\n",
      "{'DO': 1}\n",
      "Error Covariance Matrix is updated\n",
      "Measured variables are updated in model!\n",
      "Writing model to file for 'odeint' procedure...\n",
      "File is printed to:  /home/data/stvhoey/Basicrespiromodel.py\n",
      "Filename used is:  Basicrespiromodel\n",
      "Sensitivities are printed to the file....\n",
      "...done!\n",
      "...Finished writing to file!\n",
      "<function system_with_sens at 0x8cc3aa0>\n",
      "Going for odeint...\n",
      "Model was already written to file! We are using the 'odeint' procedure for solving ODEs. If you want to rewrite                 the model to the file, please add 'write = True'.\n",
      "<function system_with_sens at 0x8cc3f50>\n",
      "Going for odeint...\n",
      "Model was already written to file! We are using the 'odeint' procedure for solving ODEs. If you want to rewrite                 the model to the file, please add 'write = True'.\n",
      "<function system_with_sens at 0x66ef500>\n",
      "Going for odeint...\n",
      "No Algebraic equations defined. Continuing...\n",
      "index of dataframe is seen as measurement time steps, and colnames are the measured variables\n",
      "{'DO': 1}\n",
      "Error Covariance Matrix is updated\n",
      "Measured variables are updated in model!\n",
      "Writing model to file for 'odeint' procedure...\n",
      "File is printed to:  /home/data/stvhoey/Basicrespiromodel.py\n",
      "Filename used is:  Basicrespiromodel\n",
      "Sensitivities are printed to the file....\n",
      "...done!\n",
      "...Finished writing to file!\n",
      "<function system_with_sens at 0x6a510c8>\n",
      "Going for odeint...\n",
      "Model was already written to file! We are using the 'odeint' procedure for solving ODEs. If you want to rewrite                 the model to the file, please add 'write = True'.\n",
      "<function system_with_sens at 0x75197d0>\n",
      "Going for odeint...\n",
      "Model was already written to file! We are using the 'odeint' procedure for solving ODEs. If you want to rewrite                 the model to the file, please add 'write = True'.\n",
      "<function system_with_sens at 0x62221b8>\n",
      "Going for odeint...\n",
      "No Algebraic equations defined. Continuing...\n",
      "index of dataframe is seen as measurement time steps, and colnames are the measured variables\n",
      "{'DO': 1}\n",
      "Error Covariance Matrix is updated\n",
      "Measured variables are updated in model!\n",
      "Writing model to file for 'odeint' procedure...\n",
      "File is printed to:  /home/data/stvhoey/Basicrespiromodel.py\n",
      "Filename used is:  Basicrespiromodel\n",
      "Sensitivities are printed to the file....\n",
      "...done!\n",
      "...Finished writing to file!\n",
      "<function system_with_sens at 0x57cfd70>\n",
      "Going for odeint...\n",
      "Model was already written to file! We are using the 'odeint' procedure for solving ODEs. If you want to rewrite                 the model to the file, please add 'write = True'.\n",
      "<function system_with_sens at 0x8cb48c0>\n",
      "Going for odeint...\n",
      "Model was already written to file! We are using the 'odeint' procedure for solving ODEs. If you want to rewrite                 the model to the file, please add 'write = True'.\n",
      "<function system_with_sens at 0x5edded8>\n",
      "Going for odeint...\n",
      "----------------------------------------\n",
      "SSE of experiment  0131A  is  6340.75958103\n",
      "----------------------------------------\n",
      "Current parameter values are \n",
      "ks:  30.0\n",
      "mumax:  1.05\n",
      "----------------------------------------\n",
      "Maximum number of iterations has been exceeded.\n",
      "...done!\n",
      "****************************************\n"
     ]
    },
    {
     "name": "stderr",
     "output_type": "stream",
     "text": [
      "-c:14: OptimizeWarning: Unknown solver options: eps\n"
     ]
    },
    {
     "ename": "NameError",
     "evalue": "name 'optpars' is not defined",
     "output_type": "error",
     "traceback": [
      "\u001b[1;31m---------------------------------------------------------------------------\u001b[0m\n\u001b[1;31mNameError\u001b[0m                                 Traceback (most recent call last)",
      "\u001b[1;32m<ipython-input-18-06fbd93ff23a>\u001b[0m in \u001b[0;36m<module>\u001b[1;34m()\u001b[0m\n\u001b[0;32m     20\u001b[0m \u001b[1;33m\u001b[0m\u001b[0m\n\u001b[0;32m     21\u001b[0m \u001b[0mf\u001b[0m \u001b[1;33m=\u001b[0m \u001b[0mopen\u001b[0m\u001b[1;33m(\u001b[0m\u001b[1;34m\"2014_optimalpars_allpeaks\"\u001b[0m\u001b[1;33m,\u001b[0m \u001b[1;34m\"w\"\u001b[0m\u001b[1;33m)\u001b[0m\u001b[1;33m\u001b[0m\u001b[0m\n\u001b[1;32m---> 22\u001b[1;33m \u001b[1;32mfor\u001b[0m \u001b[0mj\u001b[0m\u001b[1;33m,\u001b[0m \u001b[0mexperiment\u001b[0m \u001b[1;32min\u001b[0m \u001b[0menumerate\u001b[0m\u001b[1;33m(\u001b[0m\u001b[0moptpars\u001b[0m\u001b[1;33m.\u001b[0m\u001b[0mkeys\u001b[0m\u001b[1;33m(\u001b[0m\u001b[1;33m)\u001b[0m\u001b[1;33m)\u001b[0m\u001b[1;33m:\u001b[0m\u001b[1;33m\u001b[0m\u001b[0m\n\u001b[0m\u001b[0;32m     23\u001b[0m  \u001b[0mf\u001b[0m\u001b[1;33m.\u001b[0m\u001b[0mwrite\u001b[0m\u001b[1;33m(\u001b[0m\u001b[0mexperiment\u001b[0m \u001b[1;33m+\u001b[0m \u001b[1;34m\"\\n\"\u001b[0m\u001b[1;33m)\u001b[0m\u001b[1;33m\u001b[0m\u001b[0m\n\u001b[0;32m     24\u001b[0m  \u001b[1;32mfor\u001b[0m \u001b[0mkey\u001b[0m\u001b[1;33m,\u001b[0m \u001b[0mvalue\u001b[0m \u001b[1;32min\u001b[0m \u001b[0mparset\u001b[0m\u001b[1;33m.\u001b[0m\u001b[0mitems\u001b[0m\u001b[1;33m(\u001b[0m\u001b[1;33m)\u001b[0m\u001b[1;33m:\u001b[0m\u001b[1;33m\u001b[0m\u001b[0m\n",
      "\u001b[1;31mNameError\u001b[0m: name 'optpars' is not defined"
     ]
    }
   ],
   "source": [
    "maxiters = 1\n",
    "method = 'Nelder-Mead'\n",
    "\n",
    "optimal_pars = {}\n",
    "\n",
    "#for name in names:\n",
    "for name in ['0131A']:\n",
    "    print \"*\"*40\n",
    "    print \"working on experiment \", name, \"...\"\n",
    "    print \"*\"*40\n",
    "    initial_parset = [30., 1.0]     #{'ks' :30, 'mumax':1.0}                           \n",
    "    res = optimize.minimize(all_peaks_optimize, initial_parset, \n",
    "                                      args=(name,), method= method, jac = False,\n",
    "                                      options = {\"maxiter\": maxiters, \"eps\": 0.001}) #bounds = [(1, 50), (0.1, 10)]\n",
    "    print res.message  \n",
    "    optimal_pars[name] = res.x\n",
    "    print \"...done!\"\n",
    "    print \"*\"*40  \n",
    "    #\n",
    "\n",
    "f = open(\"2014_optimalpars_allpeaks\", \"w\")\n",
    "for j, experiment in enumerate(optimal_pars.keys()):\n",
    " f.write(experiment + \"\\n\")\n",
    " for key, value in parset.items():\n",
    "     f.write(str(value)+\"\\n\")\n",
    " f.write(str(wsses[j])+\"\\n\")\n",
    "f.close()"
   ]
  },
  {
   "cell_type": "code",
   "execution_count": null,
   "metadata": {
    "collapsed": false
   },
   "outputs": [],
   "source": []
  }
 ],
 "metadata": {
  "kernelspec": {
   "display_name": "Python 2",
   "language": "python",
   "name": "python2"
  },
  "language_info": {
   "codemirror_mode": {
    "name": "ipython",
    "version": 2
   },
   "file_extension": ".py",
   "mimetype": "text/x-python",
   "name": "python",
   "nbconvert_exporter": "python",
   "pygments_lexer": "ipython2",
   "version": "2.7.10"
  }
 },
 "nbformat": 4,
 "nbformat_minor": 0
}
